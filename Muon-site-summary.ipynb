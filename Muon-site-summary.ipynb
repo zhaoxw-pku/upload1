{
 "cells": [
  {
   "cell_type": "markdown",
   "metadata": {},
   "source": [
    "# Local Electronic Structure and Dynamics of Muon-Polaron Complexes in Fe$_2$O$_3$\n",
    "\n",
    "## Supplemental material: Candidate muon stopping sites\n",
    "\n",
    "M. H. Dehn$^{1, 2, 3}$ J. K. Shenton$^{4,*}$ D. J. Arseneau$^3$ W. A. MacFarlane$^{2, 3, 5}$ G.\n",
    "D. Morris$^3$ A. Maigné$^2$ N. A. Spaldin$^4$, and R. F. Kiefl$^{1, 2, 3}$\n",
    "\n",
    "\n",
    "$^1$Department of Physics and Astronomy, University of British Columbia, Vancouver, BC V6T 1Z1, Canada    \n",
    "$^2$Stewart Blusson Quantum Matter Institute, University of British Columbia, Vancouver, BC V6T 1Z4, Canada    \n",
    "$^3$<span style=\"font-variant:small-caps;\">Triumf</span>, Vancouver, BC V6T 2A3, Canada   \n",
    "$^4$Department of Materials, ETH Zurich, CH-8093 Zürich, Switzerland   \n",
    "$^5$Department of Chemistry, University of British Columbia, Vancouver, BC, V6T 1Z1, Canada    \n",
    "\n",
    "\n",
    "\n",
    "\n",
    "$^*$ For queries about the supplemental information in this notebook contact [J. Kane Shenton](mailto:john.shenton@mat.ethz.ch)."
   ]
  },
  {
   "cell_type": "markdown",
   "metadata": {},
   "source": [
    "### Summary"
   ]
  },
  {
   "cell_type": "markdown",
   "metadata": {},
   "source": [
    "In this notebook we summarise the muon candidate stopping sites for three possible overall charge states: +1,0,-1. These correspond to the sites reported in Table 1 of the paper. \n",
    "\n",
    "Below we summarise the general computational details used in the paper. We also provide the function we used to parse and extract the local field at the muon site from the output of a [VASP hyperfine tensor calculation](https://www.vasp.at/wiki/index.php/LHYPERFINE). \n"
   ]
  },
  {
   "cell_type": "markdown",
   "metadata": {},
   "source": [
    "### Computational details\n",
    "\n",
    "* Supercell size: 2x2x2 of rhombohedral cell\n",
    "    * 80 atoms + 1 'muon'\n",
    "    * $a = b = c = 10.72184487$  Å\n",
    "    * $\\alpha=\\beta=\\gamma = 55.113^\\circ$\n",
    "* DFT code: VASP version 5.4.4\n",
    "* Plane-wave cutoff energy: 700 eV\n",
    "* $\\Gamma$-centred 4x4x4 k-point mesh was used for relaxations and 8x8x8 for DOS calculations.\n",
    "* Exchange-correlation functional: LDA\n",
    "* $\\mathrm{U_{eff}} = 4 $ eV Hubbard correction (Dudarev scheme)\n",
    "* SCF energy tolerance: 1E-7 eV\n",
    "* Maximum force tolerance: 5 meV/Å\n",
    "* The following PAWs were used:\n",
    "    * Fe_pv 02Aug2007\n",
    "    * O 22Mar2012\n",
    "    * H 06May1998\n",
    "\n",
    "The full `INCAR`, `KPOINTS`, `POSCAR`, `CONTCAR` and `OUTCAR` files can be found in the subdirectories."
   ]
  },
  {
   "cell_type": "markdown",
   "metadata": {},
   "source": [
    "### Setup"
   ]
  },
  {
   "cell_type": "code",
   "execution_count": 1,
   "metadata": {
    "ExecuteTime": {
     "end_time": "2020-08-14T10:34:50.526785Z",
     "start_time": "2020-08-14T10:34:49.997281Z"
    }
   },
   "outputs": [],
   "source": [
    "# ASE version 3.19.1\n",
    "from ase.io import read\n",
    "\n",
    "# Numpy version 1.16.4\n",
    "import numpy as np\n",
    "\n",
    "# re version: 2.2.1\n",
    "import re"
   ]
  },
  {
   "cell_type": "markdown",
   "metadata": {},
   "source": [
    "In order to reduce the size of this repository, we have compressed all of the files used for this analysis. In order to compress or decompress the files, run one of the cells below:"
   ]
  },
  {
   "cell_type": "code",
   "execution_count": 15,
   "metadata": {
    "ExecuteTime": {
     "end_time": "2020-08-14T11:20:20.003346Z",
     "start_time": "2020-08-14T11:20:16.938860Z"
    }
   },
   "outputs": [],
   "source": [
    "# --- Compress --- #\n",
    "!gzip -r muon_sites/"
   ]
  },
  {
   "cell_type": "code",
   "execution_count": null,
   "metadata": {},
   "outputs": [],
   "source": [
    "# --- De-compress --- #\n",
    "!gzip -dr muon_sites/"
   ]
  },
  {
   "cell_type": "markdown",
   "metadata": {},
   "source": [
    "We also need a function to parse the hyperfine tensor [as calculated by VASP](https://www.vasp.at/wiki/index.php/LHYPERFINE). We need to scale this by the gyromagnetic ratio of the muon and a factor of 1/2 in order to obtain the effective field and hence the predicted precession frequency for the muon."
   ]
  },
  {
   "cell_type": "code",
   "execution_count": 2,
   "metadata": {
    "ExecuteTime": {
     "end_time": "2020-08-14T10:34:51.355093Z",
     "start_time": "2020-08-14T10:34:51.330716Z"
    }
   },
   "outputs": [],
   "source": [
    "def get_hyperfine(outcar, natoms, muon_index=-1):\n",
    "    \"\"\"\n",
    "    Function to parse the vasp hyperfine tensor of the 'muon' from an OUTCAR file (final ionic step).\n",
    "    \n",
    "    Inputs:\n",
    "        outcar (string): path to OUTCAR file\n",
    "        natoms (int): total number of atoms in the cell\n",
    "        muon_index (int): python index of the muon (typically the last atom in the POSCAR so defaults to -1)\n",
    "    \n",
    "    It returns the \n",
    "    \"\"\"\n",
    "    \n",
    "\n",
    "    # muon gyromagnetic ratio:\n",
    "    gamma_mu = 851.616 / (2*np.pi) # MHz /T\n",
    "\n",
    "    re_totalspin  = re.compile(\"Total magnetic moment S\")\n",
    "\n",
    "    re_contact  = re.compile(\"Fermi contact \\(isotropic\\) hyperfine coupling parameter \\(MHz\\)\")\n",
    "    re_dipole   = re.compile(\"Dipolar hyperfine coupling parameters \\(MHz\\)\")\n",
    "\n",
    "    contacts = np.zeros(natoms)\n",
    "    dipole_tensors = np.zeros((natoms, 3, 3))\n",
    "\n",
    "    with open(outcar) as f:\n",
    "        for line in f:\n",
    "            if re_totalspin.search(line):\n",
    "                totalS = float(line.split()[-1])\n",
    "\n",
    "            if re_contact.search(line):\n",
    "                next(f) # -------------------------------------------------------------\n",
    "                next(f) #  ion      A_pw      A_1PS     A_1AE     A_1c      A_tot\n",
    "                next(f) # -------------------------------------------------------------\n",
    "\n",
    "                for i in range(natoms):\n",
    "                    A_tot = float(next(f).split()[-1]) # just take the total contact interaction\n",
    "                    contacts[i] = A_tot\n",
    "\n",
    "\n",
    "\n",
    "            if re_dipole.search(line):\n",
    "                next(f) # -------------------------------------------------------------\n",
    "                next(f) #    ion      A_xx      A_yy      A_zz      A_xy      A_xz      A_yz\n",
    "                next(f) # -------------------------------------------------------------\n",
    "\n",
    "                for i in range(natoms):\n",
    "                    A_dip = np.array((next(f).split())).astype(float)\n",
    "\n",
    "                    # diagonal:\n",
    "                    dipole_tensors[i][0][0] = A_dip[1]\n",
    "                    dipole_tensors[i][1][1] = A_dip[2]\n",
    "                    dipole_tensors[i][2][2] = A_dip[3]\n",
    "\n",
    "                    #off-diagonal\n",
    "                    dipole_tensors[i][0][1] = A_dip[4]\n",
    "                    dipole_tensors[i][1][0] = A_dip[4]\n",
    "\n",
    "                    dipole_tensors[i][0][2] = A_dip[5]\n",
    "                    dipole_tensors[i][2][0] = A_dip[5]\n",
    "\n",
    "                    dipole_tensors[i][1][2] = A_dip[6]\n",
    "                    dipole_tensors[i][2][1] = A_dip[6]\n",
    "\n",
    "    \n",
    "    A_c = contacts[muon_index] * gamma_mu\n",
    "    A_dip = dipole_tensors[muon_index] * gamma_mu\n",
    "        \n",
    "    A = A_dip + np.eye(3)*A_c\n",
    "    \n",
    "    # B-field\n",
    "    Bfield = 0.5 * A[2]\n",
    "    B_magnitude = np.linalg.norm(Bfield)\n",
    "\n",
    "    # z-direction\n",
    "    z = np.array([0,0,1])\n",
    "    # get new theta\n",
    "    theta = 180*np.arccos(np.array(Bfield).dot(z) / B_magnitude) / np.pi\n",
    "    if theta > 90:\n",
    "        theta = 180 - theta\n",
    "\n",
    "    # Store Results \n",
    "    res = {'A_c'         : A_c,\n",
    "           'A_dip'       : A_dip,\n",
    "           'A'           : A,\n",
    "           'Bfield'      : Bfield,\n",
    "           'B_magnitude' : B_magnitude,\n",
    "           'theta'       : theta}    \n",
    "    \n",
    "    return res\n",
    "    "
   ]
  },
  {
   "cell_type": "code",
   "execution_count": 3,
   "metadata": {
    "ExecuteTime": {
     "end_time": "2020-08-14T10:34:51.672200Z",
     "start_time": "2020-08-14T10:34:51.663832Z"
    }
   },
   "outputs": [],
   "source": [
    "def print_res(res):\n",
    "    \"\"\"\n",
    "    Prints out, in a pretty way, the local field at the muon sites.\n",
    "    \n",
    "    Inputs: \n",
    "    res (dict): dictionary returned from the get_hyperfine() function\n",
    "    \"\"\"\n",
    "    \n",
    "    print('Fermi contact: {:6.3f} MHz'.format(res[\"A_c\"]))\n",
    "    print('Anisotropic part of hyperfine tensor (MHz):')\n",
    "    for row in res[\"A_dip\"]:\n",
    "        print(\"{:10.3f} {:10.3f} {:10.3f}\".format(*row))\n",
    "        \n",
    "    print(\"\\nEffective B field: [{:8.3f}, {:8.3f}, {:8.3f}] MHz\".format(*res['Bfield']))\n",
    "    \n",
    "    print('\\n')\n",
    "    print(40*\"-\")\n",
    "    print(\"Precession freq.    : {:10.1f} MHz\".format(res['B_magnitude']))\n",
    "    print(\"Angle wrt c ([0001]): {:10.1f} deg\".format(res['theta']))\n",
    "    print(40*\"-\")"
   ]
  },
  {
   "cell_type": "markdown",
   "metadata": {},
   "source": [
    "### Bare muon (charge +1 state)"
   ]
  },
  {
   "cell_type": "code",
   "execution_count": 6,
   "metadata": {
    "ExecuteTime": {
     "end_time": "2020-08-14T10:39:21.165677Z",
     "start_time": "2020-08-14T10:39:20.758630Z"
    }
   },
   "outputs": [
    {
     "name": "stdout",
     "output_type": "stream",
     "text": [
      "Fermi contact: -1.355 MHz\n",
      "Anisotropic part of hyperfine tensor (MHz):\n",
      "   283.547    -28.734    -15.587\n",
      "   -28.734    167.119     58.553\n",
      "   -15.587     58.553   -450.667\n",
      "\n",
      "Effective B field: [  -7.793,   29.276, -226.011] MHz\n",
      "\n",
      "\n",
      "----------------------------------------\n",
      "Precession freq.    :      228.0 MHz\n",
      "Angle wrt c ([0001]):        7.6 deg\n",
      "----------------------------------------\n"
     ]
    }
   ],
   "source": [
    "outcar = \"./muon_sites/mu_plus/C/20200403-2032-OUTCAR\"\n",
    "mu_plus_C     = read(outcar, format='vasp-out')\n",
    "mu_plus_C_hf  = get_hyperfine(outcar, natoms= len(mu_plus_C))\n",
    "print_res(mu_plus_C_hf)"
   ]
  },
  {
   "cell_type": "markdown",
   "metadata": {},
   "source": [
    "### Muon-polaron complexes (charge neutral state)"
   ]
  },
  {
   "cell_type": "markdown",
   "metadata": {},
   "source": [
    "#### C1"
   ]
  },
  {
   "cell_type": "code",
   "execution_count": 7,
   "metadata": {
    "ExecuteTime": {
     "end_time": "2020-08-14T10:39:24.939655Z",
     "start_time": "2020-08-14T10:39:24.406993Z"
    }
   },
   "outputs": [
    {
     "name": "stdout",
     "output_type": "stream",
     "text": [
      "Fermi contact:  2.846 MHz\n",
      "Anisotropic part of hyperfine tensor (MHz):\n",
      "   275.144    -17.485    -26.430\n",
      "   -17.485    151.939     58.011\n",
      "   -26.430     58.011   -427.083\n",
      "\n",
      "Effective B field: [ -13.215,   29.005, -212.118] MHz\n",
      "\n",
      "\n",
      "----------------------------------------\n",
      "Precession freq.    :      214.5 MHz\n",
      "Angle wrt c ([0001]):        8.5 deg\n",
      "----------------------------------------\n"
     ]
    }
   ],
   "source": [
    "outcar = \"./muon_sites/mu_zero/C1/20200405-1936-OUTCAR\"\n",
    "mu_zero_C1     = read(outcar, format='vasp-out')\n",
    "mu_zero_C1_hf  = get_hyperfine(outcar, natoms= len(mu_zero_C1))\n",
    "print_res(mu_zero_C1_hf)"
   ]
  },
  {
   "cell_type": "markdown",
   "metadata": {},
   "source": [
    "#### C2"
   ]
  },
  {
   "cell_type": "code",
   "execution_count": 8,
   "metadata": {
    "ExecuteTime": {
     "end_time": "2020-08-14T10:39:27.406747Z",
     "start_time": "2020-08-14T10:39:26.902882Z"
    }
   },
   "outputs": [
    {
     "name": "stdout",
     "output_type": "stream",
     "text": [
      "Fermi contact: -5.150 MHz\n",
      "Anisotropic part of hyperfine tensor (MHz):\n",
      "   290.595    -21.009      0.678\n",
      "   -21.009    152.481     57.062\n",
      "     0.678     57.062   -442.941\n",
      "\n",
      "Effective B field: [   0.339,   28.531, -224.046] MHz\n",
      "\n",
      "\n",
      "----------------------------------------\n",
      "Precession freq.    :      225.9 MHz\n",
      "Angle wrt c ([0001]):        7.3 deg\n",
      "----------------------------------------\n"
     ]
    }
   ],
   "source": [
    "outcar = \"./muon_sites/mu_zero/C2/20200403-2058-OUTCAR\"\n",
    "mu_zero_C2     = read(outcar, format='vasp-out')\n",
    "mu_zero_C2_hf  = get_hyperfine(outcar, natoms= len(mu_zero_C2))\n",
    "print_res(mu_zero_C2_hf)"
   ]
  },
  {
   "cell_type": "markdown",
   "metadata": {},
   "source": [
    "#### C3"
   ]
  },
  {
   "cell_type": "code",
   "execution_count": 9,
   "metadata": {
    "ExecuteTime": {
     "end_time": "2020-08-14T10:39:27.406747Z",
     "start_time": "2020-08-14T10:39:26.902882Z"
    }
   },
   "outputs": [
    {
     "name": "stdout",
     "output_type": "stream",
     "text": [
      "Fermi contact: -27.243 MHz\n",
      "Anisotropic part of hyperfine tensor (MHz):\n",
      "   263.081    -39.306    -11.521\n",
      "   -39.306    185.146     58.011\n",
      "   -11.521     58.011   -448.092\n",
      "\n",
      "Effective B field: [  -5.760,   29.005, -237.667] MHz\n",
      "\n",
      "\n",
      "----------------------------------------\n",
      "Precession freq.    :      239.5 MHz\n",
      "Angle wrt c ([0001]):        7.1 deg\n",
      "----------------------------------------\n"
     ]
    }
   ],
   "source": [
    "outcar = \"./muon_sites/mu_zero/C3/20200810-1412-OUTCAR\"\n",
    "mu_zero_C3     = read(outcar, format='vasp-out')\n",
    "mu_zero_C3_hf  = get_hyperfine(outcar, natoms= len(mu_zero_C3))\n",
    "print_res(mu_zero_C3_hf)"
   ]
  },
  {
   "cell_type": "markdown",
   "metadata": {},
   "source": [
    "#### C4"
   ]
  },
  {
   "cell_type": "code",
   "execution_count": 10,
   "metadata": {
    "ExecuteTime": {
     "end_time": "2020-08-14T10:39:27.406747Z",
     "start_time": "2020-08-14T10:39:26.902882Z"
    }
   },
   "outputs": [
    {
     "name": "stdout",
     "output_type": "stream",
     "text": [
      "Fermi contact: -53.944 MHz\n",
      "Anisotropic part of hyperfine tensor (MHz):\n",
      "   261.861    -63.839    -60.586\n",
      "   -63.839    198.700      4.337\n",
      "   -60.586      4.337   -460.697\n",
      "\n",
      "Effective B field: [ -30.293,    2.169, -257.321] MHz\n",
      "\n",
      "\n",
      "----------------------------------------\n",
      "Precession freq.    :      259.1 MHz\n",
      "Angle wrt c ([0001]):        6.7 deg\n",
      "----------------------------------------\n"
     ]
    }
   ],
   "source": [
    "outcar = \"./muon_sites/mu_zero/C4/20200403-2102-OUTCAR\"\n",
    "mu_zero_C4     = read(outcar, format='vasp-out')\n",
    "mu_zero_C4_hf  = get_hyperfine(outcar, natoms= len(mu_zero_C4))\n",
    "print_res(mu_zero_C4_hf)"
   ]
  },
  {
   "cell_type": "markdown",
   "metadata": {},
   "source": [
    "#### Compare total energies of the charge-neutral states"
   ]
  },
  {
   "cell_type": "code",
   "execution_count": 11,
   "metadata": {
    "ExecuteTime": {
     "end_time": "2020-08-14T10:39:29.468092Z",
     "start_time": "2020-08-14T10:39:29.458874Z"
    }
   },
   "outputs": [
    {
     "name": "stdout",
     "output_type": "stream",
     "text": [
      "Total energies of C2, C3, C4 with respect to C1: \n",
      "      12.5 meV\n",
      "      37.2 meV\n",
      "      50.6 meV\n"
     ]
    }
   ],
   "source": [
    "print(\"Total energies of C2, C3, C4 with respect to C1: \")\n",
    "for C in [mu_zero_C2, mu_zero_C3, mu_zero_C4]:\n",
    "    e = C.get_potential_energy() - mu_zero_C1.get_potential_energy()\n",
    "    print(f\"{1000*e:10.1f} meV\")"
   ]
  },
  {
   "cell_type": "markdown",
   "metadata": {},
   "source": [
    "### Muon-polaron complexes (charge -1 state)"
   ]
  },
  {
   "cell_type": "markdown",
   "metadata": {},
   "source": [
    "#### C1"
   ]
  },
  {
   "cell_type": "code",
   "execution_count": 12,
   "metadata": {
    "ExecuteTime": {
     "end_time": "2020-08-14T10:39:30.053928Z",
     "start_time": "2020-08-14T10:39:29.513735Z"
    }
   },
   "outputs": [
    {
     "name": "stdout",
     "output_type": "stream",
     "text": [
      "Fermi contact: -26.295 MHz\n",
      "Anisotropic part of hyperfine tensor (MHz):\n",
      "   252.645    -27.785    -22.635\n",
      "   -27.785    167.391     57.604\n",
      "   -22.635     57.604   -420.035\n",
      "\n",
      "Effective B field: [ -11.317,   28.802, -223.165] MHz\n",
      "\n",
      "\n",
      "----------------------------------------\n",
      "Precession freq.    :      225.3 MHz\n",
      "Angle wrt c ([0001]):        7.9 deg\n",
      "----------------------------------------\n"
     ]
    }
   ],
   "source": [
    "outcar = \"./muon_sites/mu_minus/C1/20200404-0150-OUTCAR\"\n",
    "mu_minus_C1     = read(outcar, format='vasp-out')\n",
    "mu_minus_C1_hf  = get_hyperfine(outcar, natoms= len(mu_minus_C1))\n",
    "print_res(mu_minus_C1_hf)"
   ]
  },
  {
   "cell_type": "markdown",
   "metadata": {},
   "source": [
    "#### C2"
   ]
  },
  {
   "cell_type": "code",
   "execution_count": 13,
   "metadata": {
    "ExecuteTime": {
     "end_time": "2020-08-14T10:39:30.651255Z",
     "start_time": "2020-08-14T10:39:30.080496Z"
    }
   },
   "outputs": [
    {
     "name": "stdout",
     "output_type": "stream",
     "text": [
      "Fermi contact:  2.982 MHz\n",
      "Anisotropic part of hyperfine tensor (MHz):\n",
      "   283.683    -12.605    -11.521\n",
      "   -12.605    136.488     62.483\n",
      "   -11.521     62.483   -420.171\n",
      "\n",
      "Effective B field: [  -5.760,   31.242, -208.594] MHz\n",
      "\n",
      "\n",
      "----------------------------------------\n",
      "Precession freq.    :      211.0 MHz\n",
      "Angle wrt c ([0001]):        8.7 deg\n",
      "----------------------------------------\n"
     ]
    }
   ],
   "source": [
    "outcar = \"./muon_sites/mu_minus/C2/20200404-0335-OUTCAR\"\n",
    "mu_minus_C2     = read(outcar, format='vasp-out')\n",
    "mu_minus_C2_hf  = get_hyperfine(outcar, natoms= len(mu_minus_C2))\n",
    "print_res(mu_minus_C2_hf)"
   ]
  },
  {
   "cell_type": "markdown",
   "metadata": {},
   "source": [
    "#### Compare total energies of the charge -1 states"
   ]
  },
  {
   "cell_type": "code",
   "execution_count": 14,
   "metadata": {
    "ExecuteTime": {
     "end_time": "2020-08-14T10:39:30.956263Z",
     "start_time": "2020-08-14T10:39:30.949763Z"
    }
   },
   "outputs": [
    {
     "name": "stdout",
     "output_type": "stream",
     "text": [
      "Total energy of C2 with respect to C1: \n",
      "       3.7 meV\n"
     ]
    }
   ],
   "source": [
    "print(\"Total energy of C2 with respect to C1: \")\n",
    "e = mu_minus_C2.get_potential_energy() - mu_minus_C1.get_potential_energy()\n",
    "print(f\"{1000*e:10.1f} meV\")"
   ]
  },
  {
   "cell_type": "code",
   "execution_count": null,
   "metadata": {},
   "outputs": [],
   "source": []
  }
 ],
 "metadata": {
  "@webio": {
   "lastCommId": null,
   "lastKernelId": null
  },
  "kernelspec": {
   "display_name": "Python 3",
   "language": "python",
   "name": "python3"
  },
  "language_info": {
   "codemirror_mode": {
    "name": "ipython",
    "version": 3
   },
   "file_extension": ".py",
   "mimetype": "text/x-python",
   "name": "python",
   "nbconvert_exporter": "python",
   "pygments_lexer": "ipython3",
   "version": "3.7.3"
  },
  "toc": {
   "base_numbering": 1,
   "nav_menu": {},
   "number_sections": true,
   "sideBar": true,
   "skip_h1_title": false,
   "title_cell": "Table of Contents",
   "title_sidebar": "Contents",
   "toc_cell": false,
   "toc_position": {
    "height": "calc(100% - 180px)",
    "left": "10px",
    "top": "150px",
    "width": "384px"
   },
   "toc_section_display": true,
   "toc_window_display": true
  },
  "varInspector": {
   "cols": {
    "lenName": 16,
    "lenType": 16,
    "lenVar": 40
   },
   "kernels_config": {
    "python": {
     "delete_cmd_postfix": "",
     "delete_cmd_prefix": "del ",
     "library": "var_list.py",
     "varRefreshCmd": "print(var_dic_list())"
    },
    "r": {
     "delete_cmd_postfix": ") ",
     "delete_cmd_prefix": "rm(",
     "library": "var_list.r",
     "varRefreshCmd": "cat(var_dic_list()) "
    }
   },
   "types_to_exclude": [
    "module",
    "function",
    "builtin_function_or_method",
    "instance",
    "_Feature"
   ],
   "window_display": false
  }
 },
 "nbformat": 4,
 "nbformat_minor": 4
}
